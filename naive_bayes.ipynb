{
  "nbformat": 4,
  "nbformat_minor": 0,
  "metadata": {
    "colab": {
      "name": "naive_bayes.ipynb",
      "provenance": [],
      "authorship_tag": "ABX9TyPdQaJsI1+ZvjucVVZUuzS9",
      "include_colab_link": true
    },
    "kernelspec": {
      "name": "python3",
      "display_name": "Python 3"
    },
    "language_info": {
      "name": "python"
    }
  },
  "cells": [
    {
      "cell_type": "markdown",
      "metadata": {
        "id": "view-in-github",
        "colab_type": "text"
      },
      "source": [
        "<a href=\"https://colab.research.google.com/github/ranggaramadhan/datamining/blob/master/naive_bayes.ipynb\" target=\"_parent\"><img src=\"https://colab.research.google.com/assets/colab-badge.svg\" alt=\"Open In Colab\"/></a>"
      ]
    },
    {
      "cell_type": "code",
      "metadata": {
        "id": "Qg9AYKAdagQd"
      },
      "source": [
        "import numpy as np \n",
        "import matplotlib.pyplot as plt \n",
        "import pandas as pd"
      ],
      "execution_count": 17,
      "outputs": []
    },
    {
      "cell_type": "code",
      "metadata": {
        "id": "qERFeOzla3q1"
      },
      "source": [
        "dataset = pd.read_csv('laku data mining.csv')\n",
        "x = dataset.iloc[:, [2,3]].values\n",
        "y = dataset.iloc[:, -1].values"
      ],
      "execution_count": 18,
      "outputs": []
    },
    {
      "cell_type": "code",
      "metadata": {
        "colab": {
          "base_uri": "https://localhost:8080/"
        },
        "id": "LX05TlpObnzQ",
        "outputId": "60caafe8-120a-434a-f912-de5f2b4f2d53"
      },
      "source": [
        "print(x)"
      ],
      "execution_count": 19,
      "outputs": [
        {
          "output_type": "stream",
          "text": [
            "[[   9 2500]\n",
            " [   7 2600]\n",
            " [   6 2200]\n",
            " [   8 1900]\n",
            " [   6 2300]\n",
            " [   9 2400]\n",
            " [   5 2600]\n",
            " [   8 1600]\n",
            " [   4 1500]\n",
            " [   6 2000]\n",
            " [   8 1600]\n",
            " [  11 2000]\n",
            " [   8 2900]\n",
            " [  10 1500]\n",
            " [   9 1600]\n",
            " [   6 1700]\n",
            " [   7 1600]\n",
            " [   8 1500]\n",
            " [   9 1800]\n",
            " [  12 1900]\n",
            " [   4 1600]\n",
            " [   6 1600]\n",
            " [   8 1800]\n",
            " [   9 1500]\n",
            " [   8 1700]\n",
            " [   9 1800]\n",
            " [   7 1800]\n",
            " [   7 1600]\n",
            " [   8 1500]\n",
            " [   6 2000]\n",
            " [   9 1700]\n",
            " [  11 2000]\n",
            " [  12 3000]\n",
            " [  11 1500]\n",
            " [  11 1600]\n",
            " [   8 1400]\n",
            " [   9 1600]\n",
            " [  10 1500]\n",
            " [  11 2200]\n",
            " [   7 2300]\n",
            " [   8 1600]\n",
            " [   5 1600]\n",
            " [   6 1800]\n",
            " [   8 1500]\n",
            " [   7 1700]\n",
            " [   7 1300]\n",
            " [   8 1800]\n",
            " [   6 1600]\n",
            " [   5 1900]\n",
            " [   8 2000]\n",
            " [  10 2400]\n",
            " [  11 2000]\n",
            " [  12 3000]\n",
            " [   5 2100]\n",
            " [   6 2200]\n",
            " [   8 2400]\n",
            " [   8 1600]\n",
            " [  10 1800]\n",
            " [   8 1900]\n",
            " [   7 1700]\n",
            " [   8 1600]\n",
            " [   9 1600]\n",
            " [   6 1800]\n",
            " [   8 1500]\n",
            " [   6 1700]\n",
            " [   7 1900]\n",
            " [   8 1800]\n",
            " [   8 1600]\n",
            " [   5 1500]\n",
            " [   8 2000]\n",
            " [   9 2400]\n",
            " [  11 2000]\n",
            " [  12 3000]\n",
            " [  11 1500]\n",
            " [  11 1600]\n",
            " [   7 2400]\n",
            " [   9 1600]\n",
            " [   7 1500]\n",
            " [  11 2200]\n",
            " [   9 1300]\n",
            " [   8 1600]\n",
            " [   8 1600]\n",
            " [   6 1800]\n",
            " [   9 1500]\n",
            " [   7 1700]\n",
            " [   8 2300]\n",
            " [   8 1800]\n",
            " [   9 1600]\n",
            " [   5 1500]\n",
            " [   7 2000]\n",
            " [  10 2400]\n",
            " [  11 2000]\n",
            " [  12 3000]\n",
            " [  11 1500]\n",
            " [   9 1600]\n",
            " [   8 2400]\n",
            " [   7 1600]\n",
            " [  10 1500]\n",
            " [  11 2200]\n",
            " [   7 2300]\n",
            " [   8 1600]\n",
            " [   5 1600]\n",
            " [   8 1800]\n",
            " [   8 1500]\n",
            " [   7 1700]\n",
            " [   7 2300]\n",
            " [   8 1800]\n",
            " [   6 1600]\n",
            " [   5 1500]\n",
            " [   8 2000]\n",
            " [  10 2400]\n",
            " [  11 2000]\n",
            " [  12 3000]\n",
            " [  11 1500]\n",
            " [  11 1600]\n",
            " [   8 2400]\n",
            " [   9 1600]\n",
            " [   6 1500]\n",
            " [   8 2200]\n",
            " [   7 2300]\n",
            " [   8 1600]\n",
            " [   9 1600]\n",
            " [   6 1800]\n",
            " [   8 1500]\n",
            " [   7 1700]\n",
            " [   7 2300]\n",
            " [   8 1800]\n",
            " [   6 1600]\n",
            " [   5 1500]\n",
            " [   8 2000]\n",
            " [  10 2400]\n",
            " [   7 2000]\n",
            " [  12 3000]\n",
            " [  11 1500]\n",
            " [   8 1600]\n",
            " [   8 2400]\n",
            " [   9 1600]\n",
            " [  10 1500]\n",
            " [  11 2200]\n",
            " [   7 2300]\n",
            " [   8 2000]\n",
            " [   9 1600]\n",
            " [   6 1800]\n",
            " [   8 1500]\n",
            " [   6 1700]\n",
            " [   7 2300]\n",
            " [   8 1800]\n",
            " [   7 1600]\n",
            " [   5 1500]\n",
            " [   8 2000]\n",
            " [  10 2400]\n",
            " [  11 2000]\n",
            " [  12 3000]\n",
            " [  11 1500]\n",
            " [  11 1600]\n",
            " [   8 2500]\n",
            " [   9 1600]\n",
            " [  10 1500]\n",
            " [  11 2500]\n",
            " [   7 2600]\n",
            " [   8 1600]\n",
            " [   5 1600]\n",
            " [   6 1800]\n",
            " [   8 1500]\n",
            " [   7 1700]\n",
            " [   7 2300]\n",
            " [   8 1800]\n",
            " [   6 1600]\n",
            " [   8 1500]\n",
            " [   8 2000]\n",
            " [   9 2800]\n",
            " [  11 2000]\n",
            " [   8 3000]\n",
            " [  11 1500]\n",
            " [  11 1600]\n",
            " [   8 2100]\n",
            " [   9 1600]\n",
            " [   8 1500]\n",
            " [   7 2200]\n",
            " [   7 2300]\n",
            " [   8 1600]\n",
            " [   5 1600]\n",
            " [   6 1800]\n",
            " [   8 1500]\n",
            " [   7 1700]\n",
            " [   8 2400]\n",
            " [   8 1800]\n",
            " [   9 1600]\n",
            " [   5 1500]\n",
            " [   6 2000]\n",
            " [  10 1400]\n",
            " [   8 2000]\n",
            " [  12 3000]\n",
            " [  11 1500]\n",
            " [  11 1600]\n",
            " [   9 1400]\n",
            " [   9 1600]\n",
            " [   7 1500]\n",
            " [  11 2200]\n",
            " [   5 2300]]\n"
          ],
          "name": "stdout"
        }
      ]
    },
    {
      "cell_type": "code",
      "metadata": {
        "colab": {
          "base_uri": "https://localhost:8080/"
        },
        "id": "pnjeAnJXb_Cz",
        "outputId": "33675db5-048b-43dc-b474-d96eaaff1f3b"
      },
      "source": [
        "print(y)"
      ],
      "execution_count": 20,
      "outputs": [
        {
          "output_type": "stream",
          "text": [
            "[0 0 0 0 0 0 1 1 0 0 0 1 0 0 0 0 1 1 0 1 1 1 1 1 1 0 1 1 0 0 0 1 1 0 0 0 0\n",
            " 0 0 1 0 0 0 0 0 0 0 0 1 0 0 0 0 1 0 0 0 0 0 0 0 0 0 1 0 0 0 0 0 0 0 0 0 0\n",
            " 0 1 0 0 0 0 0 0 0 0 0 1 0 0 0 0 0 0 0 0 0 0 0 1 0 0 0 0 0 1 0 0 0 0 0 0 0\n",
            " 0 0 0 0 0 0 0 0 1 0 0 0 0 0 0 0 0 0 0 0 0 0 0 0 0 0 1 0 0 0 0 0 0 0 0 0 0\n",
            " 0 0 0 0 0 0 0 0 0 0 0 0 1 0 0 0 0 0 0 0 0 0 0 0 0 0 0 0 0 1 0 0 0 0 1 0 0\n",
            " 0 0 0 0 0 0 0 0 0 0 0 0 0 0 0]\n"
          ],
          "name": "stdout"
        }
      ]
    },
    {
      "cell_type": "code",
      "metadata": {
        "id": "5BvNmRJncE42"
      },
      "source": [
        "from sklearn.model_selection import train_test_split\n",
        "x_train,x_test,y_train,y_test = train_test_split(x,y,test_size=0.25, random_state=0)"
      ],
      "execution_count": 21,
      "outputs": []
    },
    {
      "cell_type": "code",
      "metadata": {
        "colab": {
          "base_uri": "https://localhost:8080/"
        },
        "id": "5pLDKhS7cIyJ",
        "outputId": "28657fb2-2d63-4e14-adf1-350d5d2a05e6"
      },
      "source": [
        "print(x_train)"
      ],
      "execution_count": 22,
      "outputs": [
        {
          "output_type": "stream",
          "text": [
            "[[  11 2000]\n",
            " [   7 1700]\n",
            " [   7 1700]\n",
            " [  10 1500]\n",
            " [   8 2000]\n",
            " [   8 1700]\n",
            " [   9 1700]\n",
            " [   8 1600]\n",
            " [   8 1600]\n",
            " [   8 1600]\n",
            " [   7 2000]\n",
            " [   7 1600]\n",
            " [   5 1600]\n",
            " [  12 1900]\n",
            " [  11 1500]\n",
            " [  12 3000]\n",
            " [   6 2200]\n",
            " [   8 1500]\n",
            " [  11 2000]\n",
            " [   8 1800]\n",
            " [   7 2300]\n",
            " [  10 2400]\n",
            " [  10 1500]\n",
            " [   5 1600]\n",
            " [   6 1700]\n",
            " [   7 2000]\n",
            " [   8 2000]\n",
            " [   9 1600]\n",
            " [   7 1600]\n",
            " [   9 1600]\n",
            " [   9 1600]\n",
            " [   8 1800]\n",
            " [  11 2200]\n",
            " [   9 1400]\n",
            " [   5 1500]\n",
            " [   6 1800]\n",
            " [   6 2200]\n",
            " [   7 1700]\n",
            " [   9 1600]\n",
            " [   7 1500]\n",
            " [   8 1500]\n",
            " [   8 1600]\n",
            " [  11 1600]\n",
            " [  11 1500]\n",
            " [   9 1600]\n",
            " [   7 2200]\n",
            " [   8 2100]\n",
            " [   8 1800]\n",
            " [  11 1500]\n",
            " [  12 3000]\n",
            " [  11 2500]\n",
            " [   8 2000]\n",
            " [  10 2400]\n",
            " [   9 2500]\n",
            " [   9 1600]\n",
            " [  10 2400]\n",
            " [   8 2400]\n",
            " [   6 1700]\n",
            " [   6 1600]\n",
            " [   5 1600]\n",
            " [   8 2000]\n",
            " [   8 2000]\n",
            " [   5 1900]\n",
            " [   8 2300]\n",
            " [  10 1500]\n",
            " [   5 1600]\n",
            " [   9 1500]\n",
            " [   8 1800]\n",
            " [   8 2400]\n",
            " [   4 1600]\n",
            " [   6 1700]\n",
            " [  11 2200]\n",
            " [   7 1700]\n",
            " [  12 3000]\n",
            " [   8 1600]\n",
            " [   9 1600]\n",
            " [   8 1900]\n",
            " [   9 1600]\n",
            " [   7 1700]\n",
            " [  11 2200]\n",
            " [   5 2600]\n",
            " [   5 1500]\n",
            " [   7 1700]\n",
            " [   9 1600]\n",
            " [   8 2500]\n",
            " [  11 2000]\n",
            " [   9 1600]\n",
            " [  11 2000]\n",
            " [   5 2300]\n",
            " [  11 2000]\n",
            " [   7 2300]\n",
            " [   8 1800]\n",
            " [   8 1400]\n",
            " [  10 1800]\n",
            " [   7 1900]\n",
            " [   7 2600]\n",
            " [   8 1600]\n",
            " [   6 1800]\n",
            " [   6 1800]\n",
            " [   7 2300]\n",
            " [  12 3000]\n",
            " [  11 1500]\n",
            " [   8 1500]\n",
            " [  11 2200]\n",
            " [  11 1500]\n",
            " [   5 2100]\n",
            " [  10 1500]\n",
            " [   5 1500]\n",
            " [  11 1600]\n",
            " [   8 1500]\n",
            " [  11 1600]\n",
            " [  11 2000]\n",
            " [  11 2000]\n",
            " [   8 1800]\n",
            " [   6 1600]\n",
            " [   9 1600]\n",
            " [  12 3000]\n",
            " [   6 1800]\n",
            " [   8 2000]\n",
            " [   7 1600]\n",
            " [   6 2000]\n",
            " [   7 2300]\n",
            " [   6 1800]\n",
            " [   9 1300]\n",
            " [   8 2400]\n",
            " [   5 1500]\n",
            " [  11 1500]\n",
            " [  12 3000]\n",
            " [   7 1500]\n",
            " [   9 1800]\n",
            " [   7 2300]\n",
            " [   8 1600]\n",
            " [   5 1500]\n",
            " [  11 1600]\n",
            " [  10 1400]\n",
            " [   7 2300]\n",
            " [   8 1900]\n",
            " [   8 2000]\n",
            " [   5 1500]\n",
            " [   9 2400]\n",
            " [   9 1600]\n",
            " [   9 1600]\n",
            " [   6 1600]\n",
            " [   6 2000]\n",
            " [   8 1500]\n",
            " [   8 1600]\n",
            " [  12 3000]\n",
            " [   6 1500]\n",
            " [   6 1600]\n",
            " [   8 3000]]\n"
          ],
          "name": "stdout"
        }
      ]
    },
    {
      "cell_type": "code",
      "metadata": {
        "colab": {
          "base_uri": "https://localhost:8080/"
        },
        "id": "-ObY1qslcMaM",
        "outputId": "ae3f6a53-baa0-49ca-f375-fa0c47a62100"
      },
      "source": [
        "print(x_test)"
      ],
      "execution_count": 23,
      "outputs": [
        {
          "output_type": "stream",
          "text": [
            "[[   9 1800]\n",
            " [   9 2800]\n",
            " [   6 1600]\n",
            " [  11 2200]\n",
            " [   8 1500]\n",
            " [   6 1800]\n",
            " [   9 2400]\n",
            " [   8 1800]\n",
            " [   8 2900]\n",
            " [  12 3000]\n",
            " [   9 1600]\n",
            " [   7 2300]\n",
            " [   8 1600]\n",
            " [  11 1600]\n",
            " [   8 1600]\n",
            " [   8 1600]\n",
            " [  11 1500]\n",
            " [  10 2400]\n",
            " [  10 1500]\n",
            " [  11 1600]\n",
            " [   8 1500]\n",
            " [   7 2300]\n",
            " [   7 1300]\n",
            " [   7 2600]\n",
            " [   8 1600]\n",
            " [   8 1500]\n",
            " [   7 2300]\n",
            " [   8 2400]\n",
            " [   6 1800]\n",
            " [   7 1700]\n",
            " [   7 1600]\n",
            " [   8 2400]\n",
            " [  10 2400]\n",
            " [  11 2000]\n",
            " [   8 1800]\n",
            " [   6 2000]\n",
            " [   8 2000]\n",
            " [   6 2300]\n",
            " [   9 1500]\n",
            " [   8 1800]\n",
            " [   8 1600]\n",
            " [   8 1800]\n",
            " [   7 1800]\n",
            " [  11 1500]\n",
            " [   8 1500]\n",
            " [   8 1500]\n",
            " [   4 1500]\n",
            " [   7 2400]\n",
            " [   8 2200]\n",
            " [   8 1500]]\n"
          ],
          "name": "stdout"
        }
      ]
    },
    {
      "cell_type": "code",
      "metadata": {
        "colab": {
          "base_uri": "https://localhost:8080/"
        },
        "id": "kDpC_OIgcPTf",
        "outputId": "d130382b-09e1-4fe8-c67d-ed5ceffd7da0"
      },
      "source": [
        "print(y_train)"
      ],
      "execution_count": 24,
      "outputs": [
        {
          "output_type": "stream",
          "text": [
            "[0 0 0 1 0 1 0 1 0 0 0 0 0 1 0 0 0 0 0 0 0 0 1 0 0 0 0 0 1 0 0 0 0 0 0 0 0\n",
            " 0 0 0 0 0 0 0 0 0 0 0 0 0 0 0 0 0 0 0 0 0 0 0 0 0 1 1 0 0 1 0 0 1 0 0 0 0\n",
            " 0 0 0 0 0 0 1 0 0 0 0 0 0 0 0 1 1 0 0 0 0 0 0 0 0 0 0 0 1 0 0 1 0 0 0 0 0\n",
            " 0 1 0 0 0 1 0 0 0 0 0 0 0 0 0 0 0 0 0 0 0 0 0 0 1 0 0 0 0 0 0 1 0 1 0 0 0\n",
            " 0 0]\n"
          ],
          "name": "stdout"
        }
      ]
    },
    {
      "cell_type": "code",
      "metadata": {
        "colab": {
          "base_uri": "https://localhost:8080/"
        },
        "id": "iZJ8248DcScO",
        "outputId": "c89da212-720f-41b2-94c2-e12ba563dbde"
      },
      "source": [
        "print(y_test)"
      ],
      "execution_count": 25,
      "outputs": [
        {
          "output_type": "stream",
          "text": [
            "[0 0 0 0 1 1 0 0 0 0 0 0 0 0 0 1 0 0 0 0 0 0 0 0 0 0 0 0 0 0 1 0 0 0 1 0 0\n",
            " 0 0 0 0 0 1 0 0 1 0 1 0 0]\n"
          ],
          "name": "stdout"
        }
      ]
    },
    {
      "cell_type": "code",
      "metadata": {
        "id": "x3y7-RJHcT6h"
      },
      "source": [
        "from sklearn.preprocessing  import StandardScaler\n",
        "sc= StandardScaler()\n",
        "x_train=sc.fit_transform(x_train)\n",
        "x_test = sc.transform(x_test)"
      ],
      "execution_count": 26,
      "outputs": []
    },
    {
      "cell_type": "code",
      "metadata": {
        "colab": {
          "base_uri": "https://localhost:8080/"
        },
        "id": "dNESR6jucZ06",
        "outputId": "6e51d748-366e-414f-a29d-a0b4d951d702"
      },
      "source": [
        "print(x_train)"
      ],
      "execution_count": 27,
      "outputs": [
        {
          "output_type": "stream",
          "text": [
            "[[ 1.37945108  0.30797554]\n",
            " [-0.61014183 -0.43314207]\n",
            " [-0.61014183 -0.43314207]\n",
            " [ 0.88205286 -0.92722048]\n",
            " [-0.1127436   0.30797554]\n",
            " [-0.1127436  -0.43314207]\n",
            " [ 0.38465463 -0.43314207]\n",
            " [-0.1127436  -0.68018128]\n",
            " [-0.1127436  -0.68018128]\n",
            " [-0.1127436  -0.68018128]\n",
            " [-0.61014183  0.30797554]\n",
            " [-0.61014183 -0.68018128]\n",
            " [-1.60493828 -0.68018128]\n",
            " [ 1.87684931  0.06093634]\n",
            " [ 1.37945108 -0.92722048]\n",
            " [ 1.87684931  2.77836759]\n",
            " [-1.10754005  0.80205395]\n",
            " [-0.1127436  -0.92722048]\n",
            " [ 1.37945108  0.30797554]\n",
            " [-0.1127436  -0.18610287]\n",
            " [-0.61014183  1.04909316]\n",
            " [ 0.88205286  1.29613236]\n",
            " [ 0.88205286 -0.92722048]\n",
            " [-1.60493828 -0.68018128]\n",
            " [-1.10754005 -0.43314207]\n",
            " [-0.61014183  0.30797554]\n",
            " [-0.1127436   0.30797554]\n",
            " [ 0.38465463 -0.68018128]\n",
            " [-0.61014183 -0.68018128]\n",
            " [ 0.38465463 -0.68018128]\n",
            " [ 0.38465463 -0.68018128]\n",
            " [-0.1127436  -0.18610287]\n",
            " [ 1.37945108  0.80205395]\n",
            " [ 0.38465463 -1.17425969]\n",
            " [-1.60493828 -0.92722048]\n",
            " [-1.10754005 -0.18610287]\n",
            " [-1.10754005  0.80205395]\n",
            " [-0.61014183 -0.43314207]\n",
            " [ 0.38465463 -0.68018128]\n",
            " [-0.61014183 -0.92722048]\n",
            " [-0.1127436  -0.92722048]\n",
            " [-0.1127436  -0.68018128]\n",
            " [ 1.37945108 -0.68018128]\n",
            " [ 1.37945108 -0.92722048]\n",
            " [ 0.38465463 -0.68018128]\n",
            " [-0.61014183  0.80205395]\n",
            " [-0.1127436   0.55501475]\n",
            " [-0.1127436  -0.18610287]\n",
            " [ 1.37945108 -0.92722048]\n",
            " [ 1.87684931  2.77836759]\n",
            " [ 1.37945108  1.54317157]\n",
            " [-0.1127436   0.30797554]\n",
            " [ 0.88205286  1.29613236]\n",
            " [ 0.38465463  1.54317157]\n",
            " [ 0.38465463 -0.68018128]\n",
            " [ 0.88205286  1.29613236]\n",
            " [-0.1127436   1.29613236]\n",
            " [-1.10754005 -0.43314207]\n",
            " [-1.10754005 -0.68018128]\n",
            " [-1.60493828 -0.68018128]\n",
            " [-0.1127436   0.30797554]\n",
            " [-0.1127436   0.30797554]\n",
            " [-1.60493828  0.06093634]\n",
            " [-0.1127436   1.04909316]\n",
            " [ 0.88205286 -0.92722048]\n",
            " [-1.60493828 -0.68018128]\n",
            " [ 0.38465463 -0.92722048]\n",
            " [-0.1127436  -0.18610287]\n",
            " [-0.1127436   1.29613236]\n",
            " [-2.10233651 -0.68018128]\n",
            " [-1.10754005 -0.43314207]\n",
            " [ 1.37945108  0.80205395]\n",
            " [-0.61014183 -0.43314207]\n",
            " [ 1.87684931  2.77836759]\n",
            " [-0.1127436  -0.68018128]\n",
            " [ 0.38465463 -0.68018128]\n",
            " [-0.1127436   0.06093634]\n",
            " [ 0.38465463 -0.68018128]\n",
            " [-0.61014183 -0.43314207]\n",
            " [ 1.37945108  0.80205395]\n",
            " [-1.60493828  1.79021077]\n",
            " [-1.60493828 -0.92722048]\n",
            " [-0.61014183 -0.43314207]\n",
            " [ 0.38465463 -0.68018128]\n",
            " [-0.1127436   1.54317157]\n",
            " [ 1.37945108  0.30797554]\n",
            " [ 0.38465463 -0.68018128]\n",
            " [ 1.37945108  0.30797554]\n",
            " [-1.60493828  1.04909316]\n",
            " [ 1.37945108  0.30797554]\n",
            " [-0.61014183  1.04909316]\n",
            " [-0.1127436  -0.18610287]\n",
            " [-0.1127436  -1.17425969]\n",
            " [ 0.88205286 -0.18610287]\n",
            " [-0.61014183  0.06093634]\n",
            " [-0.61014183  1.79021077]\n",
            " [-0.1127436  -0.68018128]\n",
            " [-1.10754005 -0.18610287]\n",
            " [-1.10754005 -0.18610287]\n",
            " [-0.61014183  1.04909316]\n",
            " [ 1.87684931  2.77836759]\n",
            " [ 1.37945108 -0.92722048]\n",
            " [-0.1127436  -0.92722048]\n",
            " [ 1.37945108  0.80205395]\n",
            " [ 1.37945108 -0.92722048]\n",
            " [-1.60493828  0.55501475]\n",
            " [ 0.88205286 -0.92722048]\n",
            " [-1.60493828 -0.92722048]\n",
            " [ 1.37945108 -0.68018128]\n",
            " [-0.1127436  -0.92722048]\n",
            " [ 1.37945108 -0.68018128]\n",
            " [ 1.37945108  0.30797554]\n",
            " [ 1.37945108  0.30797554]\n",
            " [-0.1127436  -0.18610287]\n",
            " [-1.10754005 -0.68018128]\n",
            " [ 0.38465463 -0.68018128]\n",
            " [ 1.87684931  2.77836759]\n",
            " [-1.10754005 -0.18610287]\n",
            " [-0.1127436   0.30797554]\n",
            " [-0.61014183 -0.68018128]\n",
            " [-1.10754005  0.30797554]\n",
            " [-0.61014183  1.04909316]\n",
            " [-1.10754005 -0.18610287]\n",
            " [ 0.38465463 -1.42129889]\n",
            " [-0.1127436   1.29613236]\n",
            " [-1.60493828 -0.92722048]\n",
            " [ 1.37945108 -0.92722048]\n",
            " [ 1.87684931  2.77836759]\n",
            " [-0.61014183 -0.92722048]\n",
            " [ 0.38465463 -0.18610287]\n",
            " [-0.61014183  1.04909316]\n",
            " [-0.1127436  -0.68018128]\n",
            " [-1.60493828 -0.92722048]\n",
            " [ 1.37945108 -0.68018128]\n",
            " [ 0.88205286 -1.17425969]\n",
            " [-0.61014183  1.04909316]\n",
            " [-0.1127436   0.06093634]\n",
            " [-0.1127436   0.30797554]\n",
            " [-1.60493828 -0.92722048]\n",
            " [ 0.38465463  1.29613236]\n",
            " [ 0.38465463 -0.68018128]\n",
            " [ 0.38465463 -0.68018128]\n",
            " [-1.10754005 -0.68018128]\n",
            " [-1.10754005  0.30797554]\n",
            " [-0.1127436  -0.92722048]\n",
            " [-0.1127436  -0.68018128]\n",
            " [ 1.87684931  2.77836759]\n",
            " [-1.10754005 -0.92722048]\n",
            " [-1.10754005 -0.68018128]\n",
            " [-0.1127436   2.77836759]]\n"
          ],
          "name": "stdout"
        }
      ]
    },
    {
      "cell_type": "code",
      "metadata": {
        "colab": {
          "base_uri": "https://localhost:8080/"
        },
        "id": "aorHDT7mcbdv",
        "outputId": "ae2b1c7c-7d58-49fc-a2b4-c3690d7a2264"
      },
      "source": [
        "from sklearn.naive_bayes import GaussianNB\n",
        "classifier = GaussianNB()\n",
        "classifier.fit(x_train,y_train)"
      ],
      "execution_count": 28,
      "outputs": [
        {
          "output_type": "execute_result",
          "data": {
            "text/plain": [
              "GaussianNB(priors=None, var_smoothing=1e-09)"
            ]
          },
          "metadata": {
            "tags": []
          },
          "execution_count": 28
        }
      ]
    },
    {
      "cell_type": "code",
      "metadata": {
        "id": "DboVZlERcjVx"
      },
      "source": [
        "y_pred = classifier.predict(x_test)"
      ],
      "execution_count": 29,
      "outputs": []
    },
    {
      "cell_type": "code",
      "metadata": {
        "colab": {
          "base_uri": "https://localhost:8080/"
        },
        "id": "7T4bq1VycmWG",
        "outputId": "7685ddc0-deda-4972-9e53-d2b8dc58f57f"
      },
      "source": [
        "print(x_test)"
      ],
      "execution_count": 30,
      "outputs": [
        {
          "output_type": "stream",
          "text": [
            "[[ 0.38465463 -0.18610287]\n",
            " [ 0.38465463  2.28428918]\n",
            " [-1.10754005 -0.68018128]\n",
            " [ 1.37945108  0.80205395]\n",
            " [-0.1127436  -0.92722048]\n",
            " [-1.10754005 -0.18610287]\n",
            " [ 0.38465463  1.29613236]\n",
            " [-0.1127436  -0.18610287]\n",
            " [-0.1127436   2.53132838]\n",
            " [ 1.87684931  2.77836759]\n",
            " [ 0.38465463 -0.68018128]\n",
            " [-0.61014183  1.04909316]\n",
            " [-0.1127436  -0.68018128]\n",
            " [ 1.37945108 -0.68018128]\n",
            " [-0.1127436  -0.68018128]\n",
            " [-0.1127436  -0.68018128]\n",
            " [ 1.37945108 -0.92722048]\n",
            " [ 0.88205286  1.29613236]\n",
            " [ 0.88205286 -0.92722048]\n",
            " [ 1.37945108 -0.68018128]\n",
            " [-0.1127436  -0.92722048]\n",
            " [-0.61014183  1.04909316]\n",
            " [-0.61014183 -1.42129889]\n",
            " [-0.61014183  1.79021077]\n",
            " [-0.1127436  -0.68018128]\n",
            " [-0.1127436  -0.92722048]\n",
            " [-0.61014183  1.04909316]\n",
            " [-0.1127436   1.29613236]\n",
            " [-1.10754005 -0.18610287]\n",
            " [-0.61014183 -0.43314207]\n",
            " [-0.61014183 -0.68018128]\n",
            " [-0.1127436   1.29613236]\n",
            " [ 0.88205286  1.29613236]\n",
            " [ 1.37945108  0.30797554]\n",
            " [-0.1127436  -0.18610287]\n",
            " [-1.10754005  0.30797554]\n",
            " [-0.1127436   0.30797554]\n",
            " [-1.10754005  1.04909316]\n",
            " [ 0.38465463 -0.92722048]\n",
            " [-0.1127436  -0.18610287]\n",
            " [-0.1127436  -0.68018128]\n",
            " [-0.1127436  -0.18610287]\n",
            " [-0.61014183 -0.18610287]\n",
            " [ 1.37945108 -0.92722048]\n",
            " [-0.1127436  -0.92722048]\n",
            " [-0.1127436  -0.92722048]\n",
            " [-2.10233651 -0.92722048]\n",
            " [-0.61014183  1.29613236]\n",
            " [-0.1127436   0.80205395]\n",
            " [-0.1127436  -0.92722048]]\n"
          ],
          "name": "stdout"
        }
      ]
    },
    {
      "cell_type": "code",
      "metadata": {
        "colab": {
          "base_uri": "https://localhost:8080/"
        },
        "id": "-GpNLZ9mcsF9",
        "outputId": "0021dd71-be4a-4c7f-8d31-023daf08f3b6"
      },
      "source": [
        "from sklearn.metrics import confusion_matrix\n",
        "cm = confusion_matrix(y_test,y_pred)\n",
        "print(cm)"
      ],
      "execution_count": 42,
      "outputs": [
        {
          "output_type": "stream",
          "text": [
            "[[42  0]\n",
            " [ 8  0]]\n"
          ],
          "name": "stdout"
        }
      ]
    },
    {
      "cell_type": "code",
      "metadata": {
        "colab": {
          "base_uri": "https://localhost:8080/",
          "height": 350
        },
        "id": "d617Zl-ihKA6",
        "outputId": "f02ee415-87f5-4729-86fb-6f9e27c7a918"
      },
      "source": [
        "from matplotlib.colors import ListedColormap\n",
        "x_set,y_set = x_train,y_train\n",
        "x1,x2 = np.meshgrid(np.arange(start = x_set[:,0].min() - 1, stop= x_set[:, 0].max() + 1,step=0.01  ),\n",
        "                    np.arange(start = x_set[:,1 ].min()-1, stop=x_set[:,1].max() + 1,step=0.01  ))\n",
        "plt.contourf (x1,x2,classifier.predict(np.array([x1.ravel(),x2.ravel()]).T).reshape(x1.shape),\n",
        "              alpha = 0.75, cmap =ListedColormap(( 'green','blue')))\n",
        "plt.xlim(x1.min(),x1.max())\n",
        "plt.ylim(x2.min(),x2.max())\n",
        "for i, j in enumerate(np.unique(y_set)):\n",
        "  plt.scatter(x_set[y_set==j,0],x_set[y_set==j,1],\n",
        "              c = ListedColormap(('red','yellow'))(i),label=j)\n",
        "plt.title('Naive Bayes (Training set)')\n",
        "plt.xlabel('Total')\n",
        "plt.ylabel('Harga')\n",
        "plt.legend()\n",
        "plt.show()"
      ],
      "execution_count": 50,
      "outputs": [
        {
          "output_type": "stream",
          "text": [
            "*c* argument looks like a single numeric RGB or RGBA sequence, which should be avoided as value-mapping will have precedence in case its length matches with *x* & *y*.  Please use the *color* keyword-argument or provide a 2-D array with a single row if you intend to specify the same RGB or RGBA value for all points.\n",
            "*c* argument looks like a single numeric RGB or RGBA sequence, which should be avoided as value-mapping will have precedence in case its length matches with *x* & *y*.  Please use the *color* keyword-argument or provide a 2-D array with a single row if you intend to specify the same RGB or RGBA value for all points.\n"
          ],
          "name": "stderr"
        },
        {
          "output_type": "display_data",
          "data": {
            "image/png": "[encoded data removed]",
            "text/plain": [
              "<Figure size 432x288 with 1 Axes>"
            ]
          },
          "metadata": {
            "tags": [],
            "needs_background": "light"
          }
        }
      ]
    },
    {
      "cell_type": "code",
      "metadata": {
        "colab": {
          "base_uri": "https://localhost:8080/",
          "height": 350
        },
        "id": "H8eqR3QiipbN",
        "outputId": "33e26c32-594c-40bc-ce17-29183662dc94"
      },
      "source": [
        "from matplotlib.colors import ListedColormap\n",
        "x_set,y_set = x_test,y_test\n",
        "x1,x2 = np.meshgrid(np.arange(start = x_set[:,0].min() - 1, stop= x_set[:, 0].max() + 1,step=0.01  ),\n",
        "                    np.arange(start = x_set[:,1 ].min()-1, stop=x_set[:,1].max() + 1,step=0.01  ))\n",
        "plt.contourf (x1,x2,classifier.predict(np.array([x1.ravel(),x2.ravel()]).T).reshape(x1.shape),\n",
        "              alpha = 0.75, cmap =ListedColormap(( 'green','blue')))\n",
        "plt.xlim(x1.min(),x1.max())\n",
        "plt.ylim(x2.min(),x2.max())\n",
        "for i, j in enumerate(np.unique(y_set)):\n",
        "  plt.scatter(x_set[y_set==j,0],x_set[y_set==j,1],\n",
        "              c = ListedColormap(('red','yellow'))(i),label=j)\n",
        "plt.title('Naive Bayes (Training set)')\n",
        "plt.xlabel('Total')\n",
        "plt.ylabel('Harga')\n",
        "plt.legend()\n",
        "plt.show()"
      ],
      "execution_count": 51,
      "outputs": [
        {
          "output_type": "stream",
          "text": [
            "*c* argument looks like a single numeric RGB or RGBA sequence, which should be avoided as value-mapping will have precedence in case its length matches with *x* & *y*.  Please use the *color* keyword-argument or provide a 2-D array with a single row if you intend to specify the same RGB or RGBA value for all points.\n",
            "*c* argument looks like a single numeric RGB or RGBA sequence, which should be avoided as value-mapping will have precedence in case its length matches with *x* & *y*.  Please use the *color* keyword-argument or provide a 2-D array with a single row if you intend to specify the same RGB or RGBA value for all points.\n"
          ],
          "name": "stderr"
        },
        {
          "output_type": "display_data",
          "data": {
            "image/png": "[encoded data removed]",
            "text/plain": [
              "<Figure size 432x288 with 1 Axes>"
            ]
          },
          "metadata": {
            "tags": [],
            "needs_background": "light"
          }
        }
      ]
    }
  ]
}