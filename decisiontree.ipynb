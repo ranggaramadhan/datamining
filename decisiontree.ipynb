{
  "nbformat": 4,
  "nbformat_minor": 0,
  "metadata": {
    "colab": {
      "name": "decisiontree.ipynb",
      "provenance": [],
      "authorship_tag": "ABX9TyPbWWCbyMXRPgpwnRalq5tb",
      "include_colab_link": true
    },
    "kernelspec": {
      "name": "python3",
      "display_name": "Python 3"
    },
    "language_info": {
      "name": "python"
    }
  },
  "cells": [
    {
      "cell_type": "markdown",
      "metadata": {
        "id": "view-in-github",
        "colab_type": "text"
      },
      "source": [
        "<a href=\"https://colab.research.google.com/github/ranggaramadhan/datamining/blob/master/decisiontree.ipynb\" target=\"_parent\"><img src=\"https://colab.research.google.com/assets/colab-badge.svg\" alt=\"Open In Colab\"/></a>"
      ]
    },
    {
      "cell_type": "code",
      "metadata": {
        "id": "EGhVw5HAveaj"
      },
      "source": [
        "from sklearn.tree import DecisionTreeClassifier\n",
        "from sklearn import datasets\n",
        "import matplotlib.pyplot as plt"
      ],
      "execution_count": 1,
      "outputs": []
    },
    {
      "cell_type": "code",
      "metadata": {
        "colab": {
          "base_uri": "https://localhost:8080/"
        },
        "id": "P_8H23hgv6nz",
        "outputId": "abbc3b25-0405-4122-c125-2ab698cf671a"
      },
      "source": [
        "iris = datasets.load_iris()\n",
        "features = iris['data']\n",
        "target = iris['target']\n",
        "print(features)\n",
        "len(features)"
      ],
      "execution_count": 2,
      "outputs": [
        {
          "output_type": "stream",
          "text": [
            "[[5.1 3.5 1.4 0.2]\n",
            " [4.9 3.  1.4 0.2]\n",
            " [4.7 3.2 1.3 0.2]\n",
            " [4.6 3.1 1.5 0.2]\n",
            " [5.  3.6 1.4 0.2]\n",
            " [5.4 3.9 1.7 0.4]\n",
            " [4.6 3.4 1.4 0.3]\n",
            " [5.  3.4 1.5 0.2]\n",
            " [4.4 2.9 1.4 0.2]\n",
            " [4.9 3.1 1.5 0.1]\n",
            " [5.4 3.7 1.5 0.2]\n",
            " [4.8 3.4 1.6 0.2]\n",
            " [4.8 3.  1.4 0.1]\n",
            " [4.3 3.  1.1 0.1]\n",
            " [5.8 4.  1.2 0.2]\n",
            " [5.7 4.4 1.5 0.4]\n",
            " [5.4 3.9 1.3 0.4]\n",
            " [5.1 3.5 1.4 0.3]\n",
            " [5.7 3.8 1.7 0.3]\n",
            " [5.1 3.8 1.5 0.3]\n",
            " [5.4 3.4 1.7 0.2]\n",
            " [5.1 3.7 1.5 0.4]\n",
            " [4.6 3.6 1.  0.2]\n",
            " [5.1 3.3 1.7 0.5]\n",
            " [4.8 3.4 1.9 0.2]\n",
            " [5.  3.  1.6 0.2]\n",
            " [5.  3.4 1.6 0.4]\n",
            " [5.2 3.5 1.5 0.2]\n",
            " [5.2 3.4 1.4 0.2]\n",
            " [4.7 3.2 1.6 0.2]\n",
            " [4.8 3.1 1.6 0.2]\n",
            " [5.4 3.4 1.5 0.4]\n",
            " [5.2 4.1 1.5 0.1]\n",
            " [5.5 4.2 1.4 0.2]\n",
            " [4.9 3.1 1.5 0.2]\n",
            " [5.  3.2 1.2 0.2]\n",
            " [5.5 3.5 1.3 0.2]\n",
            " [4.9 3.6 1.4 0.1]\n",
            " [4.4 3.  1.3 0.2]\n",
            " [5.1 3.4 1.5 0.2]\n",
            " [5.  3.5 1.3 0.3]\n",
            " [4.5 2.3 1.3 0.3]\n",
            " [4.4 3.2 1.3 0.2]\n",
            " [5.  3.5 1.6 0.6]\n",
            " [5.1 3.8 1.9 0.4]\n",
            " [4.8 3.  1.4 0.3]\n",
            " [5.1 3.8 1.6 0.2]\n",
            " [4.6 3.2 1.4 0.2]\n",
            " [5.3 3.7 1.5 0.2]\n",
            " [5.  3.3 1.4 0.2]\n",
            " [7.  3.2 4.7 1.4]\n",
            " [6.4 3.2 4.5 1.5]\n",
            " [6.9 3.1 4.9 1.5]\n",
            " [5.5 2.3 4.  1.3]\n",
            " [6.5 2.8 4.6 1.5]\n",
            " [5.7 2.8 4.5 1.3]\n",
            " [6.3 3.3 4.7 1.6]\n",
            " [4.9 2.4 3.3 1. ]\n",
            " [6.6 2.9 4.6 1.3]\n",
            " [5.2 2.7 3.9 1.4]\n",
            " [5.  2.  3.5 1. ]\n",
            " [5.9 3.  4.2 1.5]\n",
            " [6.  2.2 4.  1. ]\n",
            " [6.1 2.9 4.7 1.4]\n",
            " [5.6 2.9 3.6 1.3]\n",
            " [6.7 3.1 4.4 1.4]\n",
            " [5.6 3.  4.5 1.5]\n",
            " [5.8 2.7 4.1 1. ]\n",
            " [6.2 2.2 4.5 1.5]\n",
            " [5.6 2.5 3.9 1.1]\n",
            " [5.9 3.2 4.8 1.8]\n",
            " [6.1 2.8 4.  1.3]\n",
            " [6.3 2.5 4.9 1.5]\n",
            " [6.1 2.8 4.7 1.2]\n",
            " [6.4 2.9 4.3 1.3]\n",
            " [6.6 3.  4.4 1.4]\n",
            " [6.8 2.8 4.8 1.4]\n",
            " [6.7 3.  5.  1.7]\n",
            " [6.  2.9 4.5 1.5]\n",
            " [5.7 2.6 3.5 1. ]\n",
            " [5.5 2.4 3.8 1.1]\n",
            " [5.5 2.4 3.7 1. ]\n",
            " [5.8 2.7 3.9 1.2]\n",
            " [6.  2.7 5.1 1.6]\n",
            " [5.4 3.  4.5 1.5]\n",
            " [6.  3.4 4.5 1.6]\n",
            " [6.7 3.1 4.7 1.5]\n",
            " [6.3 2.3 4.4 1.3]\n",
            " [5.6 3.  4.1 1.3]\n",
            " [5.5 2.5 4.  1.3]\n",
            " [5.5 2.6 4.4 1.2]\n",
            " [6.1 3.  4.6 1.4]\n",
            " [5.8 2.6 4.  1.2]\n",
            " [5.  2.3 3.3 1. ]\n",
            " [5.6 2.7 4.2 1.3]\n",
            " [5.7 3.  4.2 1.2]\n",
            " [5.7 2.9 4.2 1.3]\n",
            " [6.2 2.9 4.3 1.3]\n",
            " [5.1 2.5 3.  1.1]\n",
            " [5.7 2.8 4.1 1.3]\n",
            " [6.3 3.3 6.  2.5]\n",
            " [5.8 2.7 5.1 1.9]\n",
            " [7.1 3.  5.9 2.1]\n",
            " [6.3 2.9 5.6 1.8]\n",
            " [6.5 3.  5.8 2.2]\n",
            " [7.6 3.  6.6 2.1]\n",
            " [4.9 2.5 4.5 1.7]\n",
            " [7.3 2.9 6.3 1.8]\n",
            " [6.7 2.5 5.8 1.8]\n",
            " [7.2 3.6 6.1 2.5]\n",
            " [6.5 3.2 5.1 2. ]\n",
            " [6.4 2.7 5.3 1.9]\n",
            " [6.8 3.  5.5 2.1]\n",
            " [5.7 2.5 5.  2. ]\n",
            " [5.8 2.8 5.1 2.4]\n",
            " [6.4 3.2 5.3 2.3]\n",
            " [6.5 3.  5.5 1.8]\n",
            " [7.7 3.8 6.7 2.2]\n",
            " [7.7 2.6 6.9 2.3]\n",
            " [6.  2.2 5.  1.5]\n",
            " [6.9 3.2 5.7 2.3]\n",
            " [5.6 2.8 4.9 2. ]\n",
            " [7.7 2.8 6.7 2. ]\n",
            " [6.3 2.7 4.9 1.8]\n",
            " [6.7 3.3 5.7 2.1]\n",
            " [7.2 3.2 6.  1.8]\n",
            " [6.2 2.8 4.8 1.8]\n",
            " [6.1 3.  4.9 1.8]\n",
            " [6.4 2.8 5.6 2.1]\n",
            " [7.2 3.  5.8 1.6]\n",
            " [7.4 2.8 6.1 1.9]\n",
            " [7.9 3.8 6.4 2. ]\n",
            " [6.4 2.8 5.6 2.2]\n",
            " [6.3 2.8 5.1 1.5]\n",
            " [6.1 2.6 5.6 1.4]\n",
            " [7.7 3.  6.1 2.3]\n",
            " [6.3 3.4 5.6 2.4]\n",
            " [6.4 3.1 5.5 1.8]\n",
            " [6.  3.  4.8 1.8]\n",
            " [6.9 3.1 5.4 2.1]\n",
            " [6.7 3.1 5.6 2.4]\n",
            " [6.9 3.1 5.1 2.3]\n",
            " [5.8 2.7 5.1 1.9]\n",
            " [6.8 3.2 5.9 2.3]\n",
            " [6.7 3.3 5.7 2.5]\n",
            " [6.7 3.  5.2 2.3]\n",
            " [6.3 2.5 5.  1.9]\n",
            " [6.5 3.  5.2 2. ]\n",
            " [6.2 3.4 5.4 2.3]\n",
            " [5.9 3.  5.1 1.8]]\n"
          ],
          "name": "stdout"
        },
        {
          "output_type": "execute_result",
          "data": {
            "text/plain": [
              "150"
            ]
          },
          "metadata": {
            "tags": []
          },
          "execution_count": 2
        }
      ]
    },
    {
      "cell_type": "code",
      "metadata": {
        "id": "i8QyX7AxwFnW"
      },
      "source": [
        "decisiontree = DecisionTreeClassifier(random_state=0,\n",
        "                                      max_depth=None,min_samples_split=2,\n",
        "                                      min_samples_leaf=1,min_weight_fraction_leaf=0,\n",
        "                                      max_leaf_nodes=None,min_impurity_decrease=0)"
      ],
      "execution_count": 3,
      "outputs": []
    },
    {
      "cell_type": "code",
      "metadata": {
        "id": "qElETZQJwHEt"
      },
      "source": [
        "model = decisiontree.fit(features,target)"
      ],
      "execution_count": 4,
      "outputs": []
    },
    {
      "cell_type": "code",
      "metadata": {
        "colab": {
          "base_uri": "https://localhost:8080/"
        },
        "id": "b5KSiXBpwJYc",
        "outputId": "82a504d8-1c67-4953-aa6e-f412ed7492e2"
      },
      "source": [
        "observation = [[5, 4, 3, 2]]\n",
        "model.predict(observation)\n",
        "model.predict_proba(observation)"
      ],
      "execution_count": 5,
      "outputs": [
        {
          "output_type": "execute_result",
          "data": {
            "text/plain": [
              "array([[0., 1., 0.]])"
            ]
          },
          "metadata": {
            "tags": []
          },
          "execution_count": 5
        }
      ]
    },
    {
      "cell_type": "code",
      "metadata": {
        "id": "dthtANaewMsr"
      },
      "source": [
        "import numpy as np\n",
        "import pandas as pd\n",
        "from sklearn import tree"
      ],
      "execution_count": 6,
      "outputs": []
    },
    {
      "cell_type": "code",
      "metadata": {
        "colab": {
          "base_uri": "https://localhost:8080/"
        },
        "id": "H5Zvw7GnwR-n",
        "outputId": "e2803820-39fb-4fe0-e56a-b65440a62fda"
      },
      "source": [
        "import pydotplus\n",
        "from sklearn import tree\n",
        "dot_data = tree.export_graphviz(decisiontree, out_file=None,feature_names=iris['feature_names'],class_names=iris['target_names'])\n",
        "from IPython.display import Image\n",
        "graph = pydotplus.graph_from_dot_data(dot_data)\n",
        "Image(graph.create_png())\n",
        "graph.write_png(\"D:\\irish.png\")"
      ],
      "execution_count": 7,
      "outputs": [
        {
          "output_type": "execute_result",
          "data": {
            "text/plain": [
              "True"
            ]
          },
          "metadata": {
            "tags": []
          },
          "execution_count": 7
        }
      ]
    },
    {
      "cell_type": "code",
      "metadata": {
        "colab": {
          "base_uri": "https://localhost:8080/"
        },
        "id": "YUEZ0Q4GwU2u",
        "outputId": "c8aa3b55-b214-4f54-e1f7-77d649c12bc2"
      },
      "source": [
        "irisDataset = pd.read_csv('Tugas 7 data mining.csv',delimiter=',',header=0)\n",
        "irisDataset[\"Jenis\"] = pd.factorize(irisDataset.Jenis)[0]\n",
        "irisDataset = irisDataset.drop(labels = \"Id\",axis=1)\n",
        "irisDataset = irisDataset.to_numpy()\n",
        "print(irisDataset)"
      ],
      "execution_count": 10,
      "outputs": [
        {
          "output_type": "stream",
          "text": [
            "[[6.07 3.08 6.06 1.05 0.  ]\n",
            " [5.06 2.08 4.05 1.06 0.  ]\n",
            " [5.08 2.08 6.03 1.05 0.  ]\n",
            " [5.07 3.08 5.08 1.03 1.  ]\n",
            " [5.05 2.08 6.01 1.03 1.  ]\n",
            " [5.05 3.02 5.01 1.03 1.  ]\n",
            " [5.08 3.02 5.03 1.02 1.  ]\n",
            " [5.09 3.   5.01 1.01 0.  ]\n",
            " [6.   2.08 5.09 1.   0.  ]\n",
            " [6.01 3.   5.06 1.02 0.  ]\n",
            " [5.06 2.08 5.08 1.06 0.  ]\n",
            " [7.   3.02 4.02 1.02 0.  ]\n",
            " [6.05 2.08 4.02 1.03 0.  ]\n",
            " [6.03 2.08 4.02 1.04 0.  ]\n",
            " [4.09 2.07 4.03 1.04 0.  ]\n",
            " [6.06 3.03 3.   1.07 0.  ]\n",
            " [5.02 3.02 4.01 1.05 0.  ]\n",
            " [5.   2.08 6.   1.   0.  ]\n",
            " [6.   3.01 5.05 1.04 1.  ]\n",
            " [5.04 2.03 5.   1.02 1.  ]\n",
            " [6.   2.08 5.01 1.   1.  ]\n",
            " [6.07 2.08 5.03 1.03 1.  ]\n",
            " [6.03 3.03 5.05 1.05 0.  ]\n",
            " [5.06 2.04 6.07 1.04 0.  ]\n",
            " [5.05 2.09 6.09 1.05 0.  ]\n",
            " [5.05 2.07 5.   1.05 1.  ]\n",
            " [6.01 2.   5.07 1.03 1.  ]\n",
            " [5.08 3.   4.09 1.05 1.  ]\n",
            " [5.   2.02 5.01 1.03 1.  ]\n",
            " [5.06 2.09 5.03 1.06 0.  ]\n",
            " [6.07 2.09 4.07 1.   0.  ]\n",
            " [5.06 3.01 4.05 1.03 0.  ]\n",
            " [5.08 3.   4.09 1.04 0.  ]\n",
            " [6.02 2.07 4.   1.   1.  ]\n",
            " [5.06 2.02 4.06 1.05 1.  ]\n",
            " [5.09 2.05 4.05 1.   1.  ]\n",
            " [6.01 3.02 4.07 1.04 0.  ]\n",
            " [6.03 2.08 3.03 1.03 0.  ]\n",
            " [6.01 2.05 4.06 1.04 0.  ]\n",
            " [6.04 2.08 3.09 1.05 0.  ]\n",
            " [6.06 2.09 3.05 1.   0.  ]\n",
            " [6.08 3.   4.02 1.05 0.  ]\n",
            " [6.07 2.08 4.   1.01 0.  ]\n",
            " [6.02 3.   4.07 1.08 0.  ]\n",
            " [5.01 2.09 3.06 1.03 0.  ]\n",
            " [5.07 2.06 4.04 1.05 1.  ]\n",
            " [6.03 2.04 4.05 1.02 1.  ]\n",
            " [5.08 2.04 4.01 1.03 1.  ]\n",
            " [7.01 2.07 4.05 1.04 1.  ]\n",
            " [6.03 2.07 3.09 1.04 1.  ]\n",
            " [6.05 3.   4.08 1.07 1.  ]\n",
            " [7.06 3.04 4.   1.05 1.  ]\n",
            " [4.09 3.   4.09 1.   1.  ]\n",
            " [7.03 2.09 4.07 1.01 1.  ]\n",
            " [6.07 2.09 4.03 1.   1.  ]\n",
            " [7.02 2.05 4.04 1.02 0.  ]\n",
            " [6.05 2.08 4.08 1.06 0.  ]\n",
            " [6.04 3.03 5.   1.05 0.  ]\n",
            " [6.04 2.08 5.06 1.   0.  ]\n",
            " [6.05 3.02 5.08 1.05 1.  ]\n",
            " [7.07 3.   6.06 1.   1.  ]\n",
            " [7.07 3.08 4.05 1.04 0.  ]\n",
            " [6.   2.06 6.03 1.03 0.  ]\n",
            " [6.09 2.02 5.08 1.04 0.  ]\n",
            " [5.06 3.02 6.01 1.05 0.  ]\n",
            " [7.07 2.08 5.01 1.   0.  ]\n",
            " [6.03 2.08 5.03 1.05 0.  ]\n",
            " [6.07 2.07 5.05 1.01 0.  ]\n",
            " [7.02 3.03 5.   1.08 1.  ]\n",
            " [6.03 3.   4.02 1.05 1.  ]\n",
            " [6.07 2.05 4.02 1.05 1.  ]\n",
            " [7.02 2.09 4.02 1.03 1.  ]\n",
            " [6.02 2.05 4.03 1.05 0.  ]\n",
            " [6.01 3.06 3.   1.03 0.  ]\n",
            " [6.04 3.02 4.01 1.06 0.  ]\n",
            " [6.08 2.07 6.   1.   0.  ]\n",
            " [5.07 3.   5.01 1.03 0.  ]\n",
            " [5.08 2.05 5.09 1.04 0.  ]\n",
            " [6.08 2.07 4.05 1.06 0.  ]\n",
            " [5.07 3.   3.05 1.05 0.  ]\n",
            " [5.08 2.09 3.08 1.03 0.  ]\n",
            " [6.04 3.   3.07 1.03 0.  ]\n",
            " [6.05 3.   3.09 1.03 1.  ]\n",
            " [7.07 2.05 5.01 1.02 1.  ]\n",
            " [7.07 2.09 4.   1.04 1.  ]\n",
            " [6.   2.05 4.04 1.02 1.  ]\n",
            " [6.09 3.06 4.06 1.   1.  ]\n",
            " [5.06 3.02 4.   1.05 1.  ]\n",
            " [7.07 2.07 3.03 1.04 1.  ]\n",
            " [6.02 3.02 5.01 1.03 1.  ]\n",
            " [6.03 2.08 5.03 1.05 1.  ]\n",
            " [6.07 3.   5.05 1.02 1.  ]\n",
            " [7.02 2.08 6.07 1.03 1.  ]\n",
            " [6.02 3.   6.09 1.04 1.  ]\n",
            " [6.01 2.08 5.   1.04 1.  ]\n",
            " [6.04 3.08 5.07 1.04 1.  ]\n",
            " [6.08 2.08 4.09 1.03 1.  ]\n",
            " [5.07 2.08 6.07 1.04 1.  ]\n",
            " [5.08 2.06 4.09 1.05 0.  ]\n",
            " [6.04 3.   5.07 1.   0.  ]]\n"
          ],
          "name": "stdout"
        }
      ]
    },
    {
      "cell_type": "code",
      "metadata": {
        "colab": {
          "base_uri": "https://localhost:8080/"
        },
        "id": "sT7Vcz-dwkh0",
        "outputId": "f3334825-a3c4-4b2d-fd15-bc15f5f3efd9"
      },
      "source": [
        "dataTraining = np.concatenate((irisDataset[0:40,:],\n",
        "                               irisDataset[50:90,:]), axis=0)\n",
        "dataTesting = np.concatenate((irisDataset[40:50,:],\n",
        "                              irisDataset[90:100,:]), axis=0)\n",
        "inputTraining = dataTraining[:,0:4]\n",
        "inputTesting = dataTesting[:,0:4]\n",
        "labelTraining = dataTraining[:,4]\n",
        "labelTesting = dataTesting[:,4]\n",
        "print(labelTesting)\n",
        "print(labelTraining)"
      ],
      "execution_count": 11,
      "outputs": [
        {
          "output_type": "stream",
          "text": [
            "[0. 0. 0. 0. 0. 1. 1. 1. 1. 1. 1. 1. 1. 1. 1. 1. 1. 1. 0. 0.]\n",
            "[0. 0. 0. 1. 1. 1. 1. 0. 0. 0. 0. 0. 0. 0. 0. 0. 0. 0. 1. 1. 1. 1. 0. 0.\n",
            " 0. 1. 1. 1. 1. 0. 0. 0. 0. 1. 1. 1. 0. 0. 0. 0. 1. 1. 1. 1. 1. 0. 0. 0.\n",
            " 0. 1. 1. 0. 0. 0. 0. 0. 0. 0. 1. 1. 1. 1. 0. 0. 0. 0. 0. 0. 0. 0. 0. 0.\n",
            " 1. 1. 1. 1. 1. 1. 1. 1.]\n"
          ],
          "name": "stdout"
        }
      ]
    },
    {
      "cell_type": "code",
      "metadata": {
        "colab": {
          "base_uri": "https://localhost:8080/"
        },
        "id": "bIHDTsq5woH0",
        "outputId": "d0814a0b-c5d0-4692-ec60-9a25a6fd0b93"
      },
      "source": [
        "model = tree.DecisionTreeClassifier()\n",
        "model = model.fit(inputTraining, labelTraining)\n",
        "hasilPrediksi = model.predict(inputTesting)\n",
        "print(\"label sebenarnya: \", labelTesting)\n",
        "print(\"hasil salah: \", hasilPrediksi)\n",
        "prediksiBenar = (hasilPrediksi == labelTesting).sum()\n",
        "prediksiSalah = (hasilPrediksi != labelTesting).sum()\n",
        "print(\"prediksi benar: \", prediksiBenar, \"data\")\n",
        "print(\"prediksi salah: \", prediksiSalah, \"data\")\n",
        "print(\"akurasi: \", prediksiBenar/(prediksiBenar+prediksiSalah)*100,\"%\")"
      ],
      "execution_count": 12,
      "outputs": [
        {
          "output_type": "stream",
          "text": [
            "label sebenarnya:  [0. 0. 0. 0. 0. 1. 1. 1. 1. 1. 1. 1. 1. 1. 1. 1. 1. 1. 0. 0.]\n",
            "hasil salah:  [0. 1. 1. 1. 0. 0. 1. 1. 0. 0. 0. 0. 0. 0. 0. 0. 1. 0. 1. 0.]\n",
            "prediksi benar:  6 data\n",
            "prediksi salah:  14 data\n",
            "akurasi:  30.0 %\n"
          ],
          "name": "stdout"
        }
      ]
    }
  ]
}